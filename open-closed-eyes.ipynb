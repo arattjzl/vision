{
 "cells": [
  {
   "cell_type": "code",
   "execution_count": 1,
   "metadata": {
    "_cell_guid": "b1076dfc-b9ad-4769-8c92-a6c4dae69d19",
    "_uuid": "8f2839f25d086af736a60e9eeb907d3b93b6e0e5",
    "execution": {
     "iopub.execute_input": "2025-01-31T21:46:48.398804Z",
     "iopub.status.busy": "2025-01-31T21:46:48.398486Z",
     "iopub.status.idle": "2025-01-31T21:46:48.404644Z",
     "shell.execute_reply": "2025-01-31T21:46:48.403781Z",
     "shell.execute_reply.started": "2025-01-31T21:46:48.398782Z"
    },
    "trusted": true
   },
   "outputs": [],
   "source": [
    "import cv2 as cv\n",
    "import numpy as np\n",
    "import matplotlib.pyplot as plt\n",
    "import os\n",
    "import glob\n",
    "import tensorflow as tf\n",
    "from tensorflow.keras.models import Sequential\n",
    "from tensorflow.keras.layers import Conv2D, MaxPooling2D, Flatten, Dense\n",
    "from tensorflow.keras.utils import to_categorical\n",
    "from keras.callbacks import EarlyStopping\n",
    "import time"
   ]
  },
  {
   "cell_type": "code",
   "execution_count": 6,
   "metadata": {
    "execution": {
     "iopub.execute_input": "2025-01-31T21:43:17.537763Z",
     "iopub.status.busy": "2025-01-31T21:43:17.537431Z",
     "iopub.status.idle": "2025-01-31T21:43:17.552361Z",
     "shell.execute_reply": "2025-01-31T21:43:17.551361Z",
     "shell.execute_reply.started": "2025-01-31T21:43:17.537728Z"
    },
    "trusted": true
   },
   "outputs": [],
   "source": [
    "paths = ['dataset/']"
   ]
  },
  {
   "cell_type": "code",
   "execution_count": 7,
   "metadata": {
    "execution": {
     "iopub.execute_input": "2025-01-31T21:43:17.554838Z",
     "iopub.status.busy": "2025-01-31T21:43:17.554545Z",
     "iopub.status.idle": "2025-01-31T21:43:17.570159Z",
     "shell.execute_reply": "2025-01-31T21:43:17.569388Z",
     "shell.execute_reply.started": "2025-01-31T21:43:17.554816Z"
    },
    "trusted": true
   },
   "outputs": [],
   "source": [
    "def imshow(img):\n",
    "    fig, ax = plt.subplots(1,1, figsize=(8,8))\n",
    "    ax.imshow(img, cmap=\"gray\")"
   ]
  },
  {
   "cell_type": "code",
   "execution_count": 10,
   "metadata": {
    "execution": {
     "iopub.execute_input": "2025-01-31T21:43:17.571866Z",
     "iopub.status.busy": "2025-01-31T21:43:17.571513Z",
     "iopub.status.idle": "2025-01-31T21:43:17.600841Z",
     "shell.execute_reply": "2025-01-31T21:43:17.599739Z",
     "shell.execute_reply.started": "2025-01-31T21:43:17.571833Z"
    },
    "trusted": true
   },
   "outputs": [
    {
     "data": {
      "text/plain": [
       "['closed', 'open']"
      ]
     },
     "execution_count": 10,
     "metadata": {},
     "output_type": "execute_result"
    }
   ],
   "source": [
    "possible_labels = os.listdir(os.path.join(paths[0]))\n",
    "possible_labels"
   ]
  },
  {
   "cell_type": "code",
   "execution_count": 14,
   "metadata": {},
   "outputs": [
    {
     "name": "stdout",
     "output_type": "stream",
     "text": [
      "Found 2679 images belonging to 2 classes.\n"
     ]
    },
    {
     "data": {
      "text/plain": [
       "<keras.preprocessing.image.DirectoryIterator at 0x1ab0f0d46d0>"
      ]
     },
     "execution_count": 14,
     "metadata": {},
     "output_type": "execute_result"
    }
   ],
   "source": [
    "from tensorflow.keras.preprocessing.image import ImageDataGenerator\n",
    "\n",
    "datagen = ImageDataGenerator(\n",
    "    rescale=1./255,  # Normalización de píxeles (0 a 1)\n",
    "    brightness_range=[0.5, 1.5],  # Ajuste de brillo (reduce o aumenta iluminación)\n",
    "    zoom_range=0.2,  # Zoom aleatorio (acerca o aleja)\n",
    "    horizontal_flip=True,  # Volteo horizontal\n",
    "    preprocessing_function=lambda x: cv.GaussianBlur(x, (5, 5), 0)\n",
    ")\n"
   ]
  },
  {
   "cell_type": "code",
   "execution_count": 45,
   "metadata": {
    "execution": {
     "iopub.execute_input": "2025-01-31T21:43:17.602192Z",
     "iopub.status.busy": "2025-01-31T21:43:17.601847Z",
     "iopub.status.idle": "2025-01-31T21:43:22.371367Z",
     "shell.execute_reply": "2025-01-31T21:43:22.370399Z",
     "shell.execute_reply.started": "2025-01-31T21:43:17.602157Z"
    },
    "trusted": true
   },
   "outputs": [
    {
     "name": "stdout",
     "output_type": "stream",
     "text": [
      "Total de imágenes en el dataset: 16074\n"
     ]
    }
   ],
   "source": [
    "import numpy as np\n",
    "import cv2 as cv\n",
    "import glob\n",
    "from tensorflow.keras.preprocessing.image import ImageDataGenerator\n",
    "\n",
    "# Definir Data Augmentation\n",
    "datagen = ImageDataGenerator(\n",
    "    brightness_range=[0.5, 1.5],  # Cambio de brillo\n",
    "    zoom_range=0.2,  # Zoom\n",
    "    horizontal_flip=True,  # Volteo horizontal\n",
    "    preprocessing_function=lambda x: cv.GaussianBlur(x.squeeze(), (5, 5), 0)[..., np.newaxis] # Desenfoque\n",
    ")\n",
    "\n",
    "data = []\n",
    "\n",
    "for i, path in enumerate(paths):\n",
    "    for label_int, label_string in enumerate(possible_labels):\n",
    "        filenames = glob.glob(path + label_string + '/*.jpg')\n",
    "\n",
    "        for filename in filenames:\n",
    "            img = cv.imread(filename, cv.IMREAD_GRAYSCALE)\n",
    "            img = cv.resize(img, (224, 224))\n",
    "\n",
    "            # Agregar canal para compatibilidad con Keras\n",
    "            img = np.expand_dims(img, axis=-1)  # (224, 224) → (224, 224, 1)\n",
    "\n",
    "            # Hacer batch de 1 imagen para ImageDataGenerator\n",
    "            img_batch = np.expand_dims(img, axis=0)  # (224, 224, 1) → (1, 224, 224, 1)\n",
    "\n",
    "            # Aplicar Data Augmentation\n",
    "            it = datagen.flow(img_batch, batch_size=1)\n",
    "\n",
    "            # Agregar imagen original\n",
    "            data.append([label_int,img.squeeze()])\n",
    "\n",
    "            # Generar 5 imágenes aumentadas\n",
    "            for _ in range(5):  # Generar 5 aumentaciones por imagen\n",
    "                augmented_img = it.next()[0]  # Obtener imagen aumentada\n",
    "                data.append([label_int, augmented_img.squeeze()])  # Guardar imagen aumentada\n",
    "\n",
    "print(f\"Total de imágenes en el dataset: {len(data)}\")"
   ]
  },
  {
   "cell_type": "code",
   "execution_count": 46,
   "metadata": {
    "execution": {
     "iopub.execute_input": "2025-01-31T21:43:22.372395Z",
     "iopub.status.busy": "2025-01-31T21:43:22.372110Z",
     "iopub.status.idle": "2025-01-31T21:43:22.454511Z",
     "shell.execute_reply": "2025-01-31T21:43:22.453630Z",
     "shell.execute_reply.started": "2025-01-31T21:43:22.372367Z"
    },
    "trusted": true
   },
   "outputs": [],
   "source": [
    "import random\n",
    "random.Random(0).shuffle(data)\n",
    "\n",
    "x_train = []\n",
    "y_train = []\n",
    "x_test = []\n",
    "y_test = []\n",
    "\n",
    "for i, sample in enumerate(data):\n",
    "    label, img = sample[0], sample[1]\n",
    "    if i <= 0.7 * len(data):\n",
    "        x_train.append(img)\n",
    "        y_train.append(label)\n",
    "    else:\n",
    "        x_test.append(img)\n",
    "        y_test.append(label)\n",
    "\n",
    "x_train = np.array(x_train)\n",
    "x_test = np.array(x_test)\n",
    "\n",
    "y_train = np.array(y_train)\n",
    "y_test = np.array(y_test)"
   ]
  },
  {
   "cell_type": "code",
   "execution_count": 47,
   "metadata": {
    "execution": {
     "iopub.execute_input": "2025-01-31T21:43:22.455575Z",
     "iopub.status.busy": "2025-01-31T21:43:22.455291Z",
     "iopub.status.idle": "2025-01-31T21:43:23.015467Z",
     "shell.execute_reply": "2025-01-31T21:43:23.014363Z",
     "shell.execute_reply.started": "2025-01-31T21:43:22.455554Z"
    },
    "trusted": true
   },
   "outputs": [],
   "source": [
    "x_train = x_train/255\n",
    "x_test = x_test/255"
   ]
  },
  {
   "cell_type": "code",
   "execution_count": 48,
   "metadata": {
    "execution": {
     "iopub.execute_input": "2025-01-31T21:43:23.018239Z",
     "iopub.status.busy": "2025-01-31T21:43:23.017945Z",
     "iopub.status.idle": "2025-01-31T21:43:23.022899Z",
     "shell.execute_reply": "2025-01-31T21:43:23.021953Z",
     "shell.execute_reply.started": "2025-01-31T21:43:23.018215Z"
    },
    "trusted": true
   },
   "outputs": [],
   "source": [
    "y_train = to_categorical(y_train, num_classes=2)\n",
    "y_test = to_categorical(y_test, num_classes=2)"
   ]
  },
  {
   "cell_type": "code",
   "execution_count": 49,
   "metadata": {
    "execution": {
     "iopub.execute_input": "2025-01-31T21:43:23.024828Z",
     "iopub.status.busy": "2025-01-31T21:43:23.024390Z",
     "iopub.status.idle": "2025-01-31T21:43:23.041594Z",
     "shell.execute_reply": "2025-01-31T21:43:23.040661Z",
     "shell.execute_reply.started": "2025-01-31T21:43:23.024805Z"
    },
    "trusted": true
   },
   "outputs": [
    {
     "name": "stdout",
     "output_type": "stream",
     "text": [
      "(11252, 224, 224)\n",
      "(4822, 224, 224)\n"
     ]
    }
   ],
   "source": [
    "print(x_train.shape)\n",
    "print(x_test.shape)"
   ]
  },
  {
   "cell_type": "code",
   "execution_count": 50,
   "metadata": {
    "execution": {
     "iopub.execute_input": "2025-01-31T21:43:23.042836Z",
     "iopub.status.busy": "2025-01-31T21:43:23.042567Z",
     "iopub.status.idle": "2025-01-31T21:43:23.059075Z",
     "shell.execute_reply": "2025-01-31T21:43:23.058127Z",
     "shell.execute_reply.started": "2025-01-31T21:43:23.042806Z"
    },
    "trusted": true
   },
   "outputs": [
    {
     "name": "stdout",
     "output_type": "stream",
     "text": [
      "(11252, 2)\n",
      "(4822, 2)\n"
     ]
    }
   ],
   "source": [
    "print(y_train.shape)\n",
    "print(y_test.shape)"
   ]
  },
  {
   "cell_type": "markdown",
   "metadata": {},
   "source": [
    "# Red neuronal"
   ]
  },
  {
   "cell_type": "code",
   "execution_count": 54,
   "metadata": {},
   "outputs": [],
   "source": [
    "def model():\n",
    "    model = Sequential()\n",
    "    model.add(Conv2D(32,(2,2), input_shape=(224, 224, 1), activation='relu'))\n",
    "    model.add(MaxPooling2D(pool_size=(3,3)))\n",
    "    model.add(Conv2D(64,(2,2), input_shape=(224, 224, 1), activation='relu'))\n",
    "    model.add(MaxPooling2D(pool_size=(2,2)))\n",
    "    model.add(Conv2D(128,(2,2), input_shape=(224, 224, 1), activation='relu'))\n",
    "    model.add(MaxPooling2D(pool_size=(2,2)))\n",
    "    model.add(Flatten())\n",
    "    model.add(Dense(64, activation='relu'))\n",
    "    model.add(Dense(2, activation='sigmoid'))\n",
    "    model.compile(optimizer='adam', loss='binary_crossentropy', metrics=['accuracy', tf.keras.metrics.AUC(), tf.keras.metrics.Precision(), tf.keras.metrics.Recall()])\n",
    "    return model"
   ]
  },
  {
   "cell_type": "code",
   "execution_count": 55,
   "metadata": {},
   "outputs": [
    {
     "name": "stdout",
     "output_type": "stream",
     "text": [
      "Model: \"sequential_1\"\n",
      "_________________________________________________________________\n",
      " Layer (type)                Output Shape              Param #   \n",
      "=================================================================\n",
      " conv2d_3 (Conv2D)           (None, 223, 223, 32)      160       \n",
      "                                                                 \n",
      " max_pooling2d_3 (MaxPooling  (None, 74, 74, 32)       0         \n",
      " 2D)                                                             \n",
      "                                                                 \n",
      " conv2d_4 (Conv2D)           (None, 73, 73, 64)        8256      \n",
      "                                                                 \n",
      " max_pooling2d_4 (MaxPooling  (None, 36, 36, 64)       0         \n",
      " 2D)                                                             \n",
      "                                                                 \n",
      " conv2d_5 (Conv2D)           (None, 35, 35, 128)       32896     \n",
      "                                                                 \n",
      " max_pooling2d_5 (MaxPooling  (None, 17, 17, 128)      0         \n",
      " 2D)                                                             \n",
      "                                                                 \n",
      " flatten_1 (Flatten)         (None, 36992)             0         \n",
      "                                                                 \n",
      " dense_2 (Dense)             (None, 64)                2367552   \n",
      "                                                                 \n",
      " dense_3 (Dense)             (None, 2)                 130       \n",
      "                                                                 \n",
      "=================================================================\n",
      "Total params: 2,408,994\n",
      "Trainable params: 2,408,994\n",
      "Non-trainable params: 0\n",
      "_________________________________________________________________\n"
     ]
    }
   ],
   "source": [
    "model = model()\n",
    "model.summary()"
   ]
  },
  {
   "cell_type": "code",
   "execution_count": 56,
   "metadata": {},
   "outputs": [
    {
     "name": "stdout",
     "output_type": "stream",
     "text": [
      "Epoch 1/10\n",
      "176/176 [==============================] - 21s 38ms/step - loss: 0.2309 - accuracy: 0.8946 - auc_1: 0.9687 - precision_1: 0.8945 - recall_1: 0.8918\n",
      "Epoch 2/10\n",
      "176/176 [==============================] - 6s 35ms/step - loss: 0.0474 - accuracy: 0.9845 - auc_1: 0.9979 - precision_1: 0.9846 - recall_1: 0.9842\n",
      "Epoch 3/10\n",
      "176/176 [==============================] - 6s 34ms/step - loss: 0.0229 - accuracy: 0.9923 - auc_1: 0.9996 - precision_1: 0.9921 - recall_1: 0.9923\n",
      "Epoch 4/10\n",
      "176/176 [==============================] - 6s 34ms/step - loss: 0.0141 - accuracy: 0.9957 - auc_1: 0.9998 - precision_1: 0.9956 - recall_1: 0.9958\n",
      "Epoch 5/10\n",
      "176/176 [==============================] - 6s 35ms/step - loss: 0.0135 - accuracy: 0.9964 - auc_1: 0.9997 - precision_1: 0.9964 - recall_1: 0.9962\n",
      "Epoch 6/10\n",
      "176/176 [==============================] - 6s 34ms/step - loss: 0.0096 - accuracy: 0.9971 - auc_1: 0.9999 - precision_1: 0.9972 - recall_1: 0.9969\n",
      "Epoch 7/10\n",
      "176/176 [==============================] - 6s 35ms/step - loss: 0.0044 - accuracy: 0.9990 - auc_1: 1.0000 - precision_1: 0.9990 - recall_1: 0.9989\n",
      "Epoch 8/10\n",
      "176/176 [==============================] - 6s 37ms/step - loss: 0.0046 - accuracy: 0.9986 - auc_1: 1.0000 - precision_1: 0.9984 - recall_1: 0.9986\n",
      "Epoch 9/10\n",
      "176/176 [==============================] - 6s 34ms/step - loss: 0.0301 - accuracy: 0.9904 - auc_1: 0.9989 - precision_1: 0.9906 - recall_1: 0.9908\n",
      "Epoch 10/10\n",
      "176/176 [==============================] - 6s 34ms/step - loss: 0.0094 - accuracy: 0.9977 - auc_1: 0.9999 - precision_1: 0.9976 - recall_1: 0.9976\n"
     ]
    },
    {
     "data": {
      "text/plain": [
       "<keras.callbacks.History at 0x1ac68af6ec0>"
      ]
     },
     "execution_count": 56,
     "metadata": {},
     "output_type": "execute_result"
    }
   ],
   "source": [
    "model.fit(x_train, y_train, epochs=10, batch_size=64)"
   ]
  },
  {
   "cell_type": "code",
   "execution_count": 57,
   "metadata": {
    "execution": {
     "iopub.execute_input": "2025-01-31T21:55:41.518183Z",
     "iopub.status.busy": "2025-01-31T21:55:41.517847Z",
     "iopub.status.idle": "2025-01-31T21:55:43.960231Z",
     "shell.execute_reply": "2025-01-31T21:55:43.959087Z",
     "shell.execute_reply.started": "2025-01-31T21:55:41.518158Z"
    },
    "trusted": true
   },
   "outputs": [
    {
     "ename": "NotFoundError",
     "evalue": "Graph execution error:\n\nDetected at node 'sequential_1/conv2d_3/Relu' defined at (most recent call last):\n    File \"c:\\Users\\ulise\\anaconda3\\envs\\py310\\lib\\runpy.py\", line 196, in _run_module_as_main\n      return _run_code(code, main_globals, None,\n    File \"c:\\Users\\ulise\\anaconda3\\envs\\py310\\lib\\runpy.py\", line 86, in _run_code\n      exec(code, run_globals)\n    File \"c:\\Users\\ulise\\anaconda3\\envs\\py310\\lib\\site-packages\\ipykernel_launcher.py\", line 18, in <module>\n      app.launch_new_instance()\n    File \"c:\\Users\\ulise\\anaconda3\\envs\\py310\\lib\\site-packages\\traitlets\\config\\application.py\", line 1075, in launch_instance\n      app.start()\n    File \"c:\\Users\\ulise\\anaconda3\\envs\\py310\\lib\\site-packages\\ipykernel\\kernelapp.py\", line 739, in start\n      self.io_loop.start()\n    File \"c:\\Users\\ulise\\anaconda3\\envs\\py310\\lib\\site-packages\\tornado\\platform\\asyncio.py\", line 205, in start\n      self.asyncio_loop.run_forever()\n    File \"c:\\Users\\ulise\\anaconda3\\envs\\py310\\lib\\asyncio\\base_events.py\", line 603, in run_forever\n      self._run_once()\n    File \"c:\\Users\\ulise\\anaconda3\\envs\\py310\\lib\\asyncio\\base_events.py\", line 1909, in _run_once\n      handle._run()\n    File \"c:\\Users\\ulise\\anaconda3\\envs\\py310\\lib\\asyncio\\events.py\", line 80, in _run\n      self._context.run(self._callback, *self._args)\n    File \"c:\\Users\\ulise\\anaconda3\\envs\\py310\\lib\\site-packages\\ipykernel\\kernelbase.py\", line 545, in dispatch_queue\n      await self.process_one()\n    File \"c:\\Users\\ulise\\anaconda3\\envs\\py310\\lib\\site-packages\\ipykernel\\kernelbase.py\", line 534, in process_one\n      await dispatch(*args)\n    File \"c:\\Users\\ulise\\anaconda3\\envs\\py310\\lib\\site-packages\\ipykernel\\kernelbase.py\", line 437, in dispatch_shell\n      await result\n    File \"c:\\Users\\ulise\\anaconda3\\envs\\py310\\lib\\site-packages\\ipykernel\\ipkernel.py\", line 362, in execute_request\n      await super().execute_request(stream, ident, parent)\n    File \"c:\\Users\\ulise\\anaconda3\\envs\\py310\\lib\\site-packages\\ipykernel\\kernelbase.py\", line 778, in execute_request\n      reply_content = await reply_content\n    File \"c:\\Users\\ulise\\anaconda3\\envs\\py310\\lib\\site-packages\\ipykernel\\ipkernel.py\", line 449, in do_execute\n      res = shell.run_cell(\n    File \"c:\\Users\\ulise\\anaconda3\\envs\\py310\\lib\\site-packages\\ipykernel\\zmqshell.py\", line 549, in run_cell\n      return super().run_cell(*args, **kwargs)\n    File \"c:\\Users\\ulise\\anaconda3\\envs\\py310\\lib\\site-packages\\IPython\\core\\interactiveshell.py\", line 3075, in run_cell\n      result = self._run_cell(\n    File \"c:\\Users\\ulise\\anaconda3\\envs\\py310\\lib\\site-packages\\IPython\\core\\interactiveshell.py\", line 3130, in _run_cell\n      result = runner(coro)\n    File \"c:\\Users\\ulise\\anaconda3\\envs\\py310\\lib\\site-packages\\IPython\\core\\async_helpers.py\", line 128, in _pseudo_sync_runner\n      coro.send(None)\n    File \"c:\\Users\\ulise\\anaconda3\\envs\\py310\\lib\\site-packages\\IPython\\core\\interactiveshell.py\", line 3334, in run_cell_async\n      has_raised = await self.run_ast_nodes(code_ast.body, cell_name,\n    File \"c:\\Users\\ulise\\anaconda3\\envs\\py310\\lib\\site-packages\\IPython\\core\\interactiveshell.py\", line 3517, in run_ast_nodes\n      if await self.run_code(code, result, async_=asy):\n    File \"c:\\Users\\ulise\\anaconda3\\envs\\py310\\lib\\site-packages\\IPython\\core\\interactiveshell.py\", line 3577, in run_code\n      exec(code_obj, self.user_global_ns, self.user_ns)\n    File \"C:\\Users\\ulise\\AppData\\Local\\Temp\\ipykernel_7552\\4086525654.py\", line 1, in <module>\n      model.evaluate(x_test, y_test)\n    File \"c:\\Users\\ulise\\anaconda3\\envs\\py310\\lib\\site-packages\\keras\\utils\\traceback_utils.py\", line 65, in error_handler\n      return fn(*args, **kwargs)\n    File \"c:\\Users\\ulise\\anaconda3\\envs\\py310\\lib\\site-packages\\keras\\engine\\training.py\", line 1947, in evaluate\n      tmp_logs = self.test_function(iterator)\n    File \"c:\\Users\\ulise\\anaconda3\\envs\\py310\\lib\\site-packages\\keras\\engine\\training.py\", line 1727, in test_function\n      return step_function(self, iterator)\n    File \"c:\\Users\\ulise\\anaconda3\\envs\\py310\\lib\\site-packages\\keras\\engine\\training.py\", line 1713, in step_function\n      outputs = model.distribute_strategy.run(run_step, args=(data,))\n    File \"c:\\Users\\ulise\\anaconda3\\envs\\py310\\lib\\site-packages\\keras\\engine\\training.py\", line 1701, in run_step\n      outputs = model.test_step(data)\n    File \"c:\\Users\\ulise\\anaconda3\\envs\\py310\\lib\\site-packages\\keras\\engine\\training.py\", line 1665, in test_step\n      y_pred = self(x, training=False)\n    File \"c:\\Users\\ulise\\anaconda3\\envs\\py310\\lib\\site-packages\\keras\\utils\\traceback_utils.py\", line 65, in error_handler\n      return fn(*args, **kwargs)\n    File \"c:\\Users\\ulise\\anaconda3\\envs\\py310\\lib\\site-packages\\keras\\engine\\training.py\", line 557, in __call__\n      return super().__call__(*args, **kwargs)\n    File \"c:\\Users\\ulise\\anaconda3\\envs\\py310\\lib\\site-packages\\keras\\utils\\traceback_utils.py\", line 65, in error_handler\n      return fn(*args, **kwargs)\n    File \"c:\\Users\\ulise\\anaconda3\\envs\\py310\\lib\\site-packages\\keras\\engine\\base_layer.py\", line 1097, in __call__\n      outputs = call_fn(inputs, *args, **kwargs)\n    File \"c:\\Users\\ulise\\anaconda3\\envs\\py310\\lib\\site-packages\\keras\\utils\\traceback_utils.py\", line 96, in error_handler\n      return fn(*args, **kwargs)\n    File \"c:\\Users\\ulise\\anaconda3\\envs\\py310\\lib\\site-packages\\keras\\engine\\sequential.py\", line 410, in call\n      return super().call(inputs, training=training, mask=mask)\n    File \"c:\\Users\\ulise\\anaconda3\\envs\\py310\\lib\\site-packages\\keras\\engine\\functional.py\", line 510, in call\n      return self._run_internal_graph(inputs, training=training, mask=mask)\n    File \"c:\\Users\\ulise\\anaconda3\\envs\\py310\\lib\\site-packages\\keras\\engine\\functional.py\", line 667, in _run_internal_graph\n      outputs = node.layer(*args, **kwargs)\n    File \"c:\\Users\\ulise\\anaconda3\\envs\\py310\\lib\\site-packages\\keras\\utils\\traceback_utils.py\", line 65, in error_handler\n      return fn(*args, **kwargs)\n    File \"c:\\Users\\ulise\\anaconda3\\envs\\py310\\lib\\site-packages\\keras\\engine\\base_layer.py\", line 1097, in __call__\n      outputs = call_fn(inputs, *args, **kwargs)\n    File \"c:\\Users\\ulise\\anaconda3\\envs\\py310\\lib\\site-packages\\keras\\utils\\traceback_utils.py\", line 96, in error_handler\n      return fn(*args, **kwargs)\n    File \"c:\\Users\\ulise\\anaconda3\\envs\\py310\\lib\\site-packages\\keras\\layers\\convolutional\\base_conv.py\", line 314, in call\n      return self.activation(outputs)\n    File \"c:\\Users\\ulise\\anaconda3\\envs\\py310\\lib\\site-packages\\keras\\activations.py\", line 317, in relu\n      return backend.relu(\n    File \"c:\\Users\\ulise\\anaconda3\\envs\\py310\\lib\\site-packages\\keras\\backend.py\", line 5366, in relu\n      x = tf.nn.relu(x)\nNode: 'sequential_1/conv2d_3/Relu'\nNo algorithm worked!  Error messages:\n  Profiling failure on CUDNN engine 1#TC: RESOURCE_EXHAUSTED: Out of memory while trying to allocate 16777216 bytes.\n  Profiling failure on CUDNN engine 1: RESOURCE_EXHAUSTED: Out of memory while trying to allocate 16777216 bytes.\n  Profiling failure on CUDNN engine 0#TC: RESOURCE_EXHAUSTED: Out of memory while trying to allocate 16777216 bytes.\n  Profiling failure on CUDNN engine 0: RESOURCE_EXHAUSTED: Out of memory while trying to allocate 16777216 bytes.\n  Profiling failure on CUDNN engine 2#TC: RESOURCE_EXHAUSTED: Out of memory while trying to allocate 42238464 bytes.\n  Profiling failure on CUDNN engine 2: RESOURCE_EXHAUSTED: Out of memory while trying to allocate 42238464 bytes.\n  Profiling failure on CUDNN engine 4#TC: RESOURCE_EXHAUSTED: Out of memory while trying to allocate 557842944 bytes.\n  Profiling failure on CUDNN engine 4: RESOURCE_EXHAUSTED: Out of memory while trying to allocate 557842944 bytes.\n  Profiling failure on CUDNN engine 5#TC: RESOURCE_EXHAUSTED: Out of memory while trying to allocate 26107904 bytes.\n  Profiling failure on CUDNN engine 5: RESOURCE_EXHAUSTED: Out of memory while trying to allocate 26107904 bytes.\n\t [[{{node sequential_1/conv2d_3/Relu}}]] [Op:__inference_test_function_14950]",
     "output_type": "error",
     "traceback": [
      "\u001b[1;31m---------------------------------------------------------------------------\u001b[0m",
      "\u001b[1;31mNotFoundError\u001b[0m                             Traceback (most recent call last)",
      "Cell \u001b[1;32mIn[57], line 1\u001b[0m\n\u001b[1;32m----> 1\u001b[0m \u001b[43mmodel\u001b[49m\u001b[38;5;241;43m.\u001b[39;49m\u001b[43mevaluate\u001b[49m\u001b[43m(\u001b[49m\u001b[43mx_test\u001b[49m\u001b[43m,\u001b[49m\u001b[43m \u001b[49m\u001b[43my_test\u001b[49m\u001b[43m)\u001b[49m\n",
      "File \u001b[1;32mc:\\Users\\ulise\\anaconda3\\envs\\py310\\lib\\site-packages\\keras\\utils\\traceback_utils.py:70\u001b[0m, in \u001b[0;36mfilter_traceback.<locals>.error_handler\u001b[1;34m(*args, **kwargs)\u001b[0m\n\u001b[0;32m     67\u001b[0m     filtered_tb \u001b[38;5;241m=\u001b[39m _process_traceback_frames(e\u001b[38;5;241m.\u001b[39m__traceback__)\n\u001b[0;32m     68\u001b[0m     \u001b[38;5;66;03m# To get the full stack trace, call:\u001b[39;00m\n\u001b[0;32m     69\u001b[0m     \u001b[38;5;66;03m# `tf.debugging.disable_traceback_filtering()`\u001b[39;00m\n\u001b[1;32m---> 70\u001b[0m     \u001b[38;5;28;01mraise\u001b[39;00m e\u001b[38;5;241m.\u001b[39mwith_traceback(filtered_tb) \u001b[38;5;28;01mfrom\u001b[39;00m \u001b[38;5;28;01mNone\u001b[39;00m\n\u001b[0;32m     71\u001b[0m \u001b[38;5;28;01mfinally\u001b[39;00m:\n\u001b[0;32m     72\u001b[0m     \u001b[38;5;28;01mdel\u001b[39;00m filtered_tb\n",
      "File \u001b[1;32mc:\\Users\\ulise\\anaconda3\\envs\\py310\\lib\\site-packages\\tensorflow\\python\\eager\\execute.py:54\u001b[0m, in \u001b[0;36mquick_execute\u001b[1;34m(op_name, num_outputs, inputs, attrs, ctx, name)\u001b[0m\n\u001b[0;32m     52\u001b[0m \u001b[38;5;28;01mtry\u001b[39;00m:\n\u001b[0;32m     53\u001b[0m   ctx\u001b[38;5;241m.\u001b[39mensure_initialized()\n\u001b[1;32m---> 54\u001b[0m   tensors \u001b[38;5;241m=\u001b[39m pywrap_tfe\u001b[38;5;241m.\u001b[39mTFE_Py_Execute(ctx\u001b[38;5;241m.\u001b[39m_handle, device_name, op_name,\n\u001b[0;32m     55\u001b[0m                                       inputs, attrs, num_outputs)\n\u001b[0;32m     56\u001b[0m \u001b[38;5;28;01mexcept\u001b[39;00m core\u001b[38;5;241m.\u001b[39m_NotOkStatusException \u001b[38;5;28;01mas\u001b[39;00m e:\n\u001b[0;32m     57\u001b[0m   \u001b[38;5;28;01mif\u001b[39;00m name \u001b[38;5;129;01mis\u001b[39;00m \u001b[38;5;129;01mnot\u001b[39;00m \u001b[38;5;28;01mNone\u001b[39;00m:\n",
      "\u001b[1;31mNotFoundError\u001b[0m: Graph execution error:\n\nDetected at node 'sequential_1/conv2d_3/Relu' defined at (most recent call last):\n    File \"c:\\Users\\ulise\\anaconda3\\envs\\py310\\lib\\runpy.py\", line 196, in _run_module_as_main\n      return _run_code(code, main_globals, None,\n    File \"c:\\Users\\ulise\\anaconda3\\envs\\py310\\lib\\runpy.py\", line 86, in _run_code\n      exec(code, run_globals)\n    File \"c:\\Users\\ulise\\anaconda3\\envs\\py310\\lib\\site-packages\\ipykernel_launcher.py\", line 18, in <module>\n      app.launch_new_instance()\n    File \"c:\\Users\\ulise\\anaconda3\\envs\\py310\\lib\\site-packages\\traitlets\\config\\application.py\", line 1075, in launch_instance\n      app.start()\n    File \"c:\\Users\\ulise\\anaconda3\\envs\\py310\\lib\\site-packages\\ipykernel\\kernelapp.py\", line 739, in start\n      self.io_loop.start()\n    File \"c:\\Users\\ulise\\anaconda3\\envs\\py310\\lib\\site-packages\\tornado\\platform\\asyncio.py\", line 205, in start\n      self.asyncio_loop.run_forever()\n    File \"c:\\Users\\ulise\\anaconda3\\envs\\py310\\lib\\asyncio\\base_events.py\", line 603, in run_forever\n      self._run_once()\n    File \"c:\\Users\\ulise\\anaconda3\\envs\\py310\\lib\\asyncio\\base_events.py\", line 1909, in _run_once\n      handle._run()\n    File \"c:\\Users\\ulise\\anaconda3\\envs\\py310\\lib\\asyncio\\events.py\", line 80, in _run\n      self._context.run(self._callback, *self._args)\n    File \"c:\\Users\\ulise\\anaconda3\\envs\\py310\\lib\\site-packages\\ipykernel\\kernelbase.py\", line 545, in dispatch_queue\n      await self.process_one()\n    File \"c:\\Users\\ulise\\anaconda3\\envs\\py310\\lib\\site-packages\\ipykernel\\kernelbase.py\", line 534, in process_one\n      await dispatch(*args)\n    File \"c:\\Users\\ulise\\anaconda3\\envs\\py310\\lib\\site-packages\\ipykernel\\kernelbase.py\", line 437, in dispatch_shell\n      await result\n    File \"c:\\Users\\ulise\\anaconda3\\envs\\py310\\lib\\site-packages\\ipykernel\\ipkernel.py\", line 362, in execute_request\n      await super().execute_request(stream, ident, parent)\n    File \"c:\\Users\\ulise\\anaconda3\\envs\\py310\\lib\\site-packages\\ipykernel\\kernelbase.py\", line 778, in execute_request\n      reply_content = await reply_content\n    File \"c:\\Users\\ulise\\anaconda3\\envs\\py310\\lib\\site-packages\\ipykernel\\ipkernel.py\", line 449, in do_execute\n      res = shell.run_cell(\n    File \"c:\\Users\\ulise\\anaconda3\\envs\\py310\\lib\\site-packages\\ipykernel\\zmqshell.py\", line 549, in run_cell\n      return super().run_cell(*args, **kwargs)\n    File \"c:\\Users\\ulise\\anaconda3\\envs\\py310\\lib\\site-packages\\IPython\\core\\interactiveshell.py\", line 3075, in run_cell\n      result = self._run_cell(\n    File \"c:\\Users\\ulise\\anaconda3\\envs\\py310\\lib\\site-packages\\IPython\\core\\interactiveshell.py\", line 3130, in _run_cell\n      result = runner(coro)\n    File \"c:\\Users\\ulise\\anaconda3\\envs\\py310\\lib\\site-packages\\IPython\\core\\async_helpers.py\", line 128, in _pseudo_sync_runner\n      coro.send(None)\n    File \"c:\\Users\\ulise\\anaconda3\\envs\\py310\\lib\\site-packages\\IPython\\core\\interactiveshell.py\", line 3334, in run_cell_async\n      has_raised = await self.run_ast_nodes(code_ast.body, cell_name,\n    File \"c:\\Users\\ulise\\anaconda3\\envs\\py310\\lib\\site-packages\\IPython\\core\\interactiveshell.py\", line 3517, in run_ast_nodes\n      if await self.run_code(code, result, async_=asy):\n    File \"c:\\Users\\ulise\\anaconda3\\envs\\py310\\lib\\site-packages\\IPython\\core\\interactiveshell.py\", line 3577, in run_code\n      exec(code_obj, self.user_global_ns, self.user_ns)\n    File \"C:\\Users\\ulise\\AppData\\Local\\Temp\\ipykernel_7552\\4086525654.py\", line 1, in <module>\n      model.evaluate(x_test, y_test)\n    File \"c:\\Users\\ulise\\anaconda3\\envs\\py310\\lib\\site-packages\\keras\\utils\\traceback_utils.py\", line 65, in error_handler\n      return fn(*args, **kwargs)\n    File \"c:\\Users\\ulise\\anaconda3\\envs\\py310\\lib\\site-packages\\keras\\engine\\training.py\", line 1947, in evaluate\n      tmp_logs = self.test_function(iterator)\n    File \"c:\\Users\\ulise\\anaconda3\\envs\\py310\\lib\\site-packages\\keras\\engine\\training.py\", line 1727, in test_function\n      return step_function(self, iterator)\n    File \"c:\\Users\\ulise\\anaconda3\\envs\\py310\\lib\\site-packages\\keras\\engine\\training.py\", line 1713, in step_function\n      outputs = model.distribute_strategy.run(run_step, args=(data,))\n    File \"c:\\Users\\ulise\\anaconda3\\envs\\py310\\lib\\site-packages\\keras\\engine\\training.py\", line 1701, in run_step\n      outputs = model.test_step(data)\n    File \"c:\\Users\\ulise\\anaconda3\\envs\\py310\\lib\\site-packages\\keras\\engine\\training.py\", line 1665, in test_step\n      y_pred = self(x, training=False)\n    File \"c:\\Users\\ulise\\anaconda3\\envs\\py310\\lib\\site-packages\\keras\\utils\\traceback_utils.py\", line 65, in error_handler\n      return fn(*args, **kwargs)\n    File \"c:\\Users\\ulise\\anaconda3\\envs\\py310\\lib\\site-packages\\keras\\engine\\training.py\", line 557, in __call__\n      return super().__call__(*args, **kwargs)\n    File \"c:\\Users\\ulise\\anaconda3\\envs\\py310\\lib\\site-packages\\keras\\utils\\traceback_utils.py\", line 65, in error_handler\n      return fn(*args, **kwargs)\n    File \"c:\\Users\\ulise\\anaconda3\\envs\\py310\\lib\\site-packages\\keras\\engine\\base_layer.py\", line 1097, in __call__\n      outputs = call_fn(inputs, *args, **kwargs)\n    File \"c:\\Users\\ulise\\anaconda3\\envs\\py310\\lib\\site-packages\\keras\\utils\\traceback_utils.py\", line 96, in error_handler\n      return fn(*args, **kwargs)\n    File \"c:\\Users\\ulise\\anaconda3\\envs\\py310\\lib\\site-packages\\keras\\engine\\sequential.py\", line 410, in call\n      return super().call(inputs, training=training, mask=mask)\n    File \"c:\\Users\\ulise\\anaconda3\\envs\\py310\\lib\\site-packages\\keras\\engine\\functional.py\", line 510, in call\n      return self._run_internal_graph(inputs, training=training, mask=mask)\n    File \"c:\\Users\\ulise\\anaconda3\\envs\\py310\\lib\\site-packages\\keras\\engine\\functional.py\", line 667, in _run_internal_graph\n      outputs = node.layer(*args, **kwargs)\n    File \"c:\\Users\\ulise\\anaconda3\\envs\\py310\\lib\\site-packages\\keras\\utils\\traceback_utils.py\", line 65, in error_handler\n      return fn(*args, **kwargs)\n    File \"c:\\Users\\ulise\\anaconda3\\envs\\py310\\lib\\site-packages\\keras\\engine\\base_layer.py\", line 1097, in __call__\n      outputs = call_fn(inputs, *args, **kwargs)\n    File \"c:\\Users\\ulise\\anaconda3\\envs\\py310\\lib\\site-packages\\keras\\utils\\traceback_utils.py\", line 96, in error_handler\n      return fn(*args, **kwargs)\n    File \"c:\\Users\\ulise\\anaconda3\\envs\\py310\\lib\\site-packages\\keras\\layers\\convolutional\\base_conv.py\", line 314, in call\n      return self.activation(outputs)\n    File \"c:\\Users\\ulise\\anaconda3\\envs\\py310\\lib\\site-packages\\keras\\activations.py\", line 317, in relu\n      return backend.relu(\n    File \"c:\\Users\\ulise\\anaconda3\\envs\\py310\\lib\\site-packages\\keras\\backend.py\", line 5366, in relu\n      x = tf.nn.relu(x)\nNode: 'sequential_1/conv2d_3/Relu'\nNo algorithm worked!  Error messages:\n  Profiling failure on CUDNN engine 1#TC: RESOURCE_EXHAUSTED: Out of memory while trying to allocate 16777216 bytes.\n  Profiling failure on CUDNN engine 1: RESOURCE_EXHAUSTED: Out of memory while trying to allocate 16777216 bytes.\n  Profiling failure on CUDNN engine 0#TC: RESOURCE_EXHAUSTED: Out of memory while trying to allocate 16777216 bytes.\n  Profiling failure on CUDNN engine 0: RESOURCE_EXHAUSTED: Out of memory while trying to allocate 16777216 bytes.\n  Profiling failure on CUDNN engine 2#TC: RESOURCE_EXHAUSTED: Out of memory while trying to allocate 42238464 bytes.\n  Profiling failure on CUDNN engine 2: RESOURCE_EXHAUSTED: Out of memory while trying to allocate 42238464 bytes.\n  Profiling failure on CUDNN engine 4#TC: RESOURCE_EXHAUSTED: Out of memory while trying to allocate 557842944 bytes.\n  Profiling failure on CUDNN engine 4: RESOURCE_EXHAUSTED: Out of memory while trying to allocate 557842944 bytes.\n  Profiling failure on CUDNN engine 5#TC: RESOURCE_EXHAUSTED: Out of memory while trying to allocate 26107904 bytes.\n  Profiling failure on CUDNN engine 5: RESOURCE_EXHAUSTED: Out of memory while trying to allocate 26107904 bytes.\n\t [[{{node sequential_1/conv2d_3/Relu}}]] [Op:__inference_test_function_14950]"
     ]
    }
   ],
   "source": [
    "model.evaluate(x_test, y_test)"
   ]
  },
  {
   "cell_type": "code",
   "execution_count": 58,
   "metadata": {
    "execution": {
     "iopub.execute_input": "2025-01-31T21:56:14.288779Z",
     "iopub.status.busy": "2025-01-31T21:56:14.288443Z",
     "iopub.status.idle": "2025-01-31T21:56:14.364393Z",
     "shell.execute_reply": "2025-01-31T21:56:14.363404Z",
     "shell.execute_reply.started": "2025-01-31T21:56:14.288756Z"
    },
    "trusted": true
   },
   "outputs": [
    {
     "name": "stdout",
     "output_type": "stream",
     "text": [
      "1/1 [==============================] - 0s 231ms/step\n",
      "Prediction: 0\n",
      "Etiqueta real: 0\n",
      "1/1 [==============================] - 0s 20ms/step\n",
      "Prediction: 0\n",
      "Etiqueta real: 0\n",
      "1/1 [==============================] - 0s 19ms/step\n",
      "Prediction: 0\n",
      "Etiqueta real: 0\n",
      "1/1 [==============================] - 0s 22ms/step\n",
      "Prediction: 0\n",
      "Etiqueta real: 0\n",
      "1/1 [==============================] - 0s 19ms/step\n",
      "Prediction: 0\n",
      "Etiqueta real: 0\n",
      "1/1 [==============================] - 0s 19ms/step\n",
      "Prediction: 1\n",
      "Etiqueta real: 1\n"
     ]
    },
    {
     "ename": "KeyboardInterrupt",
     "evalue": "",
     "output_type": "error",
     "traceback": [
      "\u001b[1;31m---------------------------------------------------------------------------\u001b[0m",
      "\u001b[1;31mKeyboardInterrupt\u001b[0m                         Traceback (most recent call last)",
      "Cell \u001b[1;32mIn[58], line 11\u001b[0m\n\u001b[0;32m      9\u001b[0m p \u001b[38;5;241m+\u001b[39m\u001b[38;5;241m=\u001b[39m \u001b[38;5;241m1\u001b[39m\n\u001b[0;32m     10\u001b[0m q \u001b[38;5;241m=\u001b[39m p\u001b[38;5;241m+\u001b[39m\u001b[38;5;241m1\u001b[39m\n\u001b[1;32m---> 11\u001b[0m \u001b[43mtime\u001b[49m\u001b[38;5;241;43m.\u001b[39;49m\u001b[43msleep\u001b[49m\u001b[43m(\u001b[49m\u001b[38;5;241;43m1\u001b[39;49m\u001b[43m)\u001b[49m\n",
      "\u001b[1;31mKeyboardInterrupt\u001b[0m: "
     ]
    }
   ],
   "source": [
    "p = 1\n",
    "q = p + 1\n",
    "\n",
    "for i in range(10):\n",
    "    prediction = model.predict(x_test[p:q])\n",
    "    prediction_label = prediction.argmax()\n",
    "    print(f'Prediction: {prediction_label}')\n",
    "    print(f'Etiqueta real: {y_test[p].argmax()}')\n",
    "    p += 1\n",
    "    q = p+1\n",
    "    time.sleep(1)"
   ]
  },
  {
   "cell_type": "code",
   "execution_count": 59,
   "metadata": {
    "execution": {
     "iopub.execute_input": "2025-01-31T21:57:14.229675Z",
     "iopub.status.busy": "2025-01-31T21:57:14.229314Z",
     "iopub.status.idle": "2025-01-31T21:57:14.327147Z",
     "shell.execute_reply": "2025-01-31T21:57:14.326370Z",
     "shell.execute_reply.started": "2025-01-31T21:57:14.229649Z"
    },
    "trusted": true
   },
   "outputs": [],
   "source": [
    "model.save(\"models/open-closed-eyes-v12.h5\")"
   ]
  }
 ],
 "metadata": {
  "kaggle": {
   "accelerator": "nvidiaTeslaT4",
   "dataSources": [
    {
     "datasetId": 1232901,
     "sourceId": 2057400,
     "sourceType": "datasetVersion"
    }
   ],
   "dockerImageVersionId": 30840,
   "isGpuEnabled": true,
   "isInternetEnabled": true,
   "language": "python",
   "sourceType": "notebook"
  },
  "kernelspec": {
   "display_name": "py310",
   "language": "python",
   "name": "python3"
  },
  "language_info": {
   "codemirror_mode": {
    "name": "ipython",
    "version": 3
   },
   "file_extension": ".py",
   "mimetype": "text/x-python",
   "name": "python",
   "nbconvert_exporter": "python",
   "pygments_lexer": "ipython3",
   "version": "3.10.16"
  }
 },
 "nbformat": 4,
 "nbformat_minor": 4
}
